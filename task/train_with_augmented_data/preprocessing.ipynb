{
 "cells": [
  {
   "cell_type": "code",
   "execution_count": 14,
   "metadata": {},
   "outputs": [],
   "source": [
    "import pickle\n",
    "import json\n",
    "import os"
   ]
  },
  {
   "cell_type": "code",
   "execution_count": 33,
   "metadata": {},
   "outputs": [],
   "source": [
    "def unpickle_and_save_to_json(infilepath):\n",
    "    filename_pkl = os.path.basename(infilepath)\n",
    "    filename_json = filename_pkl.split(\".\")[0]+\".json\"\n",
    "    outfilepath = os.path.join(\"../../data\", filename_json)\n",
    "\n",
    "    with open(infilepath, \"rb\") as infile:\n",
    "        data= pickle.load(infile)\n",
    "    \n",
    "    data_json = []\n",
    "    for id, row in data.iterrows():\n",
    "        data_json.append({\n",
    "            \"id\": id+4000,\n",
    "            \"text\": row.text,\n",
    "            \"category\": row.category\n",
    "        })\n",
    "\n",
    "    with open(outfilepath, \"w\") as outfile:\n",
    "        json.dump(data_json, outfile)\n"
   ]
  },
  {
   "cell_type": "code",
   "execution_count": 8,
   "metadata": {},
   "outputs": [
    {
     "name": "stdout",
     "output_type": "stream",
     "text": [
      "dataset_en_split_dev.json    dataset_es_split_train.json\n",
      "dataset_en_split_toy.json    dataset_es_train.json\n",
      "dataset_en_split_train.json  features.ipynb\n",
      "dataset_en_train.json\t     look_at_datapoints.ipynb\n",
      "dataset_es_split_dev.json    pickle\n",
      "dataset_es_split_toy.json\n"
     ]
    }
   ],
   "source": [
    "!ls ../../data"
   ]
  },
  {
   "cell_type": "code",
   "execution_count": 34,
   "metadata": {},
   "outputs": [],
   "source": [
    "unpickle_and_save_to_json(\"../../data/pickle/dataset_ES_translated.pkl\")\n",
    "unpickle_and_save_to_json(\"../../data/pickle/dataset_EN_translated.pkl\")\n"
   ]
  },
  {
   "cell_type": "code",
   "execution_count": 4,
   "metadata": {},
   "outputs": [
    {
     "name": "stdout",
     "output_type": "stream",
     "text": [
      "Requirement already satisfied: datasets in /home/niko/anaconda3/lib/python3.11/site-packages (from -r ../../requirements.txt (line 1)) (2.12.0)\n",
      "Requirement already satisfied: numpy in /home/niko/anaconda3/lib/python3.11/site-packages (from -r ../../requirements.txt (line 2)) (1.26.1)\n",
      "Requirement already satisfied: pandas in /home/niko/anaconda3/lib/python3.11/site-packages (from -r ../../requirements.txt (line 3)) (2.0.3)\n",
      "Collecting pynvml (from -r ../../requirements.txt (line 4))\n",
      "  Using cached pynvml-11.5.0-py3-none-any.whl.metadata (7.8 kB)\n",
      "Requirement already satisfied: regex in /home/niko/anaconda3/lib/python3.11/site-packages (from -r ../../requirements.txt (line 5)) (2023.8.8)\n",
      "Requirement already satisfied: scikit_learn in /home/niko/anaconda3/lib/python3.11/site-packages (from -r ../../requirements.txt (line 6)) (1.3.2)\n",
      "Collecting spacy (from -r ../../requirements.txt (line 7))\n",
      "  Downloading spacy-3.7.4-cp311-cp311-manylinux_2_17_x86_64.manylinux2014_x86_64.whl.metadata (27 kB)\n",
      "Requirement already satisfied: torch in /home/niko/anaconda3/lib/python3.11/site-packages (from -r ../../requirements.txt (line 8)) (2.2.2+cpu)\n",
      "Requirement already satisfied: transformers in /home/niko/anaconda3/lib/python3.11/site-packages (from -r ../../requirements.txt (line 9)) (4.32.1)\n",
      "Requirement already satisfied: pyarrow>=8.0.0 in /home/niko/anaconda3/lib/python3.11/site-packages (from datasets->-r ../../requirements.txt (line 1)) (11.0.0)\n",
      "Requirement already satisfied: dill<0.3.7,>=0.3.0 in /home/niko/anaconda3/lib/python3.11/site-packages (from datasets->-r ../../requirements.txt (line 1)) (0.3.6)\n",
      "Requirement already satisfied: requests>=2.19.0 in /home/niko/anaconda3/lib/python3.11/site-packages (from datasets->-r ../../requirements.txt (line 1)) (2.31.0)\n",
      "Requirement already satisfied: tqdm>=4.62.1 in /home/niko/anaconda3/lib/python3.11/site-packages (from datasets->-r ../../requirements.txt (line 1)) (4.66.1)\n",
      "Requirement already satisfied: xxhash in /home/niko/anaconda3/lib/python3.11/site-packages (from datasets->-r ../../requirements.txt (line 1)) (2.0.2)\n",
      "Requirement already satisfied: multiprocess in /home/niko/anaconda3/lib/python3.11/site-packages (from datasets->-r ../../requirements.txt (line 1)) (0.70.14)\n",
      "Requirement already satisfied: fsspec>=2021.11.1 in /home/niko/anaconda3/lib/python3.11/site-packages (from fsspec[http]>=2021.11.1->datasets->-r ../../requirements.txt (line 1)) (2024.3.1)\n",
      "Requirement already satisfied: aiohttp in /home/niko/anaconda3/lib/python3.11/site-packages (from datasets->-r ../../requirements.txt (line 1)) (3.8.5)\n",
      "Requirement already satisfied: huggingface-hub<1.0.0,>=0.11.0 in /home/niko/anaconda3/lib/python3.11/site-packages (from datasets->-r ../../requirements.txt (line 1)) (0.23.0)\n",
      "Requirement already satisfied: packaging in /home/niko/anaconda3/lib/python3.11/site-packages (from datasets->-r ../../requirements.txt (line 1)) (23.1)\n",
      "Requirement already satisfied: responses<0.19 in /home/niko/anaconda3/lib/python3.11/site-packages (from datasets->-r ../../requirements.txt (line 1)) (0.13.3)\n",
      "Requirement already satisfied: pyyaml>=5.1 in /home/niko/anaconda3/lib/python3.11/site-packages (from datasets->-r ../../requirements.txt (line 1)) (6.0)\n",
      "Requirement already satisfied: python-dateutil>=2.8.2 in /home/niko/anaconda3/lib/python3.11/site-packages (from pandas->-r ../../requirements.txt (line 3)) (2.8.2)\n",
      "Requirement already satisfied: pytz>=2020.1 in /home/niko/anaconda3/lib/python3.11/site-packages (from pandas->-r ../../requirements.txt (line 3)) (2023.3.post1)\n",
      "Requirement already satisfied: tzdata>=2022.1 in /home/niko/anaconda3/lib/python3.11/site-packages (from pandas->-r ../../requirements.txt (line 3)) (2023.3)\n",
      "Requirement already satisfied: scipy>=1.5.0 in /home/niko/anaconda3/lib/python3.11/site-packages (from scikit_learn->-r ../../requirements.txt (line 6)) (1.11.3)\n",
      "Requirement already satisfied: joblib>=1.1.1 in /home/niko/anaconda3/lib/python3.11/site-packages (from scikit_learn->-r ../../requirements.txt (line 6)) (1.3.2)\n",
      "Requirement already satisfied: threadpoolctl>=2.0.0 in /home/niko/anaconda3/lib/python3.11/site-packages (from scikit_learn->-r ../../requirements.txt (line 6)) (3.2.0)\n",
      "Collecting spacy-legacy<3.1.0,>=3.0.11 (from spacy->-r ../../requirements.txt (line 7))\n",
      "  Using cached spacy_legacy-3.0.12-py2.py3-none-any.whl.metadata (2.8 kB)\n",
      "Collecting spacy-loggers<2.0.0,>=1.0.0 (from spacy->-r ../../requirements.txt (line 7))\n",
      "  Using cached spacy_loggers-1.0.5-py3-none-any.whl.metadata (23 kB)\n",
      "Collecting murmurhash<1.1.0,>=0.28.0 (from spacy->-r ../../requirements.txt (line 7))\n",
      "  Downloading murmurhash-1.0.10-cp311-cp311-manylinux_2_5_x86_64.manylinux1_x86_64.manylinux_2_17_x86_64.manylinux2014_x86_64.whl.metadata (2.0 kB)\n",
      "Collecting cymem<2.1.0,>=2.0.2 (from spacy->-r ../../requirements.txt (line 7))\n",
      "  Downloading cymem-2.0.8-cp311-cp311-manylinux_2_17_x86_64.manylinux2014_x86_64.whl.metadata (8.4 kB)\n",
      "Collecting preshed<3.1.0,>=3.0.2 (from spacy->-r ../../requirements.txt (line 7))\n",
      "  Downloading preshed-3.0.9-cp311-cp311-manylinux_2_5_x86_64.manylinux1_x86_64.manylinux_2_17_x86_64.manylinux2014_x86_64.whl.metadata (2.2 kB)\n",
      "Collecting thinc<8.3.0,>=8.2.2 (from spacy->-r ../../requirements.txt (line 7))\n",
      "  Downloading thinc-8.2.3-cp311-cp311-manylinux_2_17_x86_64.manylinux2014_x86_64.whl.metadata (15 kB)\n",
      "Collecting wasabi<1.2.0,>=0.9.1 (from spacy->-r ../../requirements.txt (line 7))\n",
      "  Using cached wasabi-1.1.2-py3-none-any.whl.metadata (28 kB)\n",
      "Collecting srsly<3.0.0,>=2.4.3 (from spacy->-r ../../requirements.txt (line 7))\n",
      "  Downloading srsly-2.4.8-cp311-cp311-manylinux_2_17_x86_64.manylinux2014_x86_64.whl.metadata (20 kB)\n",
      "Collecting catalogue<2.1.0,>=2.0.6 (from spacy->-r ../../requirements.txt (line 7))\n",
      "  Using cached catalogue-2.0.10-py3-none-any.whl.metadata (14 kB)\n",
      "Collecting weasel<0.4.0,>=0.1.0 (from spacy->-r ../../requirements.txt (line 7))\n",
      "  Using cached weasel-0.3.4-py3-none-any.whl.metadata (4.7 kB)\n",
      "Collecting typer<0.10.0,>=0.3.0 (from spacy->-r ../../requirements.txt (line 7))\n",
      "  Using cached typer-0.9.4-py3-none-any.whl.metadata (14 kB)\n",
      "Requirement already satisfied: smart-open<7.0.0,>=5.2.1 in /home/niko/anaconda3/lib/python3.11/site-packages (from spacy->-r ../../requirements.txt (line 7)) (5.2.1)\n",
      "Requirement already satisfied: pydantic!=1.8,!=1.8.1,<3.0.0,>=1.7.4 in /home/niko/anaconda3/lib/python3.11/site-packages (from spacy->-r ../../requirements.txt (line 7)) (2.4.2)\n",
      "Requirement already satisfied: jinja2 in /home/niko/anaconda3/lib/python3.11/site-packages (from spacy->-r ../../requirements.txt (line 7)) (3.1.2)\n",
      "Requirement already satisfied: setuptools in /home/niko/anaconda3/lib/python3.11/site-packages (from spacy->-r ../../requirements.txt (line 7)) (68.0.0)\n",
      "Collecting langcodes<4.0.0,>=3.2.0 (from spacy->-r ../../requirements.txt (line 7))\n",
      "  Using cached langcodes-3.4.0-py3-none-any.whl.metadata (29 kB)\n",
      "Requirement already satisfied: filelock in /home/niko/anaconda3/lib/python3.11/site-packages (from torch->-r ../../requirements.txt (line 8)) (3.9.0)\n",
      "Requirement already satisfied: typing-extensions>=4.8.0 in /home/niko/anaconda3/lib/python3.11/site-packages (from torch->-r ../../requirements.txt (line 8)) (4.8.0)\n",
      "Requirement already satisfied: sympy in /home/niko/anaconda3/lib/python3.11/site-packages (from torch->-r ../../requirements.txt (line 8)) (1.11.1)\n",
      "Requirement already satisfied: networkx in /home/niko/anaconda3/lib/python3.11/site-packages (from torch->-r ../../requirements.txt (line 8)) (3.1)\n",
      "Requirement already satisfied: tokenizers!=0.11.3,<0.14,>=0.11.1 in /home/niko/anaconda3/lib/python3.11/site-packages (from transformers->-r ../../requirements.txt (line 9)) (0.13.2)\n",
      "Requirement already satisfied: safetensors>=0.3.1 in /home/niko/anaconda3/lib/python3.11/site-packages (from transformers->-r ../../requirements.txt (line 9)) (0.3.2)\n",
      "Requirement already satisfied: accelerate>=0.20.3 in /home/niko/anaconda3/lib/python3.11/site-packages (from transformers[torch]->-r ../../requirements.txt (line 10)) (0.29.2)\n",
      "Requirement already satisfied: psutil in /home/niko/anaconda3/lib/python3.11/site-packages (from accelerate>=0.20.3->transformers[torch]->-r ../../requirements.txt (line 10)) (5.9.0)\n",
      "Requirement already satisfied: attrs>=17.3.0 in /home/niko/anaconda3/lib/python3.11/site-packages (from aiohttp->datasets->-r ../../requirements.txt (line 1)) (23.1.0)\n",
      "Requirement already satisfied: charset-normalizer<4.0,>=2.0 in /home/niko/anaconda3/lib/python3.11/site-packages (from aiohttp->datasets->-r ../../requirements.txt (line 1)) (3.3.2)\n",
      "Requirement already satisfied: multidict<7.0,>=4.5 in /home/niko/anaconda3/lib/python3.11/site-packages (from aiohttp->datasets->-r ../../requirements.txt (line 1)) (6.0.2)\n",
      "Requirement already satisfied: async-timeout<5.0,>=4.0.0a3 in /home/niko/anaconda3/lib/python3.11/site-packages (from aiohttp->datasets->-r ../../requirements.txt (line 1)) (4.0.2)\n",
      "Requirement already satisfied: yarl<2.0,>=1.0 in /home/niko/anaconda3/lib/python3.11/site-packages (from aiohttp->datasets->-r ../../requirements.txt (line 1)) (1.8.1)\n",
      "Requirement already satisfied: frozenlist>=1.1.1 in /home/niko/anaconda3/lib/python3.11/site-packages (from aiohttp->datasets->-r ../../requirements.txt (line 1)) (1.3.3)\n",
      "Requirement already satisfied: aiosignal>=1.1.2 in /home/niko/anaconda3/lib/python3.11/site-packages (from aiohttp->datasets->-r ../../requirements.txt (line 1)) (1.2.0)\n",
      "Collecting language-data>=1.2 (from langcodes<4.0.0,>=3.2.0->spacy->-r ../../requirements.txt (line 7))\n",
      "  Using cached language_data-1.2.0-py3-none-any.whl.metadata (4.3 kB)\n",
      "Requirement already satisfied: annotated-types>=0.4.0 in /home/niko/anaconda3/lib/python3.11/site-packages (from pydantic!=1.8,!=1.8.1,<3.0.0,>=1.7.4->spacy->-r ../../requirements.txt (line 7)) (0.6.0)\n",
      "Requirement already satisfied: pydantic-core==2.10.1 in /home/niko/anaconda3/lib/python3.11/site-packages (from pydantic!=1.8,!=1.8.1,<3.0.0,>=1.7.4->spacy->-r ../../requirements.txt (line 7)) (2.10.1)\n",
      "Requirement already satisfied: six>=1.5 in /home/niko/anaconda3/lib/python3.11/site-packages (from python-dateutil>=2.8.2->pandas->-r ../../requirements.txt (line 3)) (1.16.0)\n",
      "Requirement already satisfied: idna<4,>=2.5 in /home/niko/anaconda3/lib/python3.11/site-packages (from requests>=2.19.0->datasets->-r ../../requirements.txt (line 1)) (3.4)\n",
      "Requirement already satisfied: urllib3<3,>=1.21.1 in /home/niko/anaconda3/lib/python3.11/site-packages (from requests>=2.19.0->datasets->-r ../../requirements.txt (line 1)) (2.0.7)\n",
      "Requirement already satisfied: certifi>=2017.4.17 in /home/niko/anaconda3/lib/python3.11/site-packages (from requests>=2.19.0->datasets->-r ../../requirements.txt (line 1)) (2023.7.22)\n",
      "Collecting blis<0.8.0,>=0.7.8 (from thinc<8.3.0,>=8.2.2->spacy->-r ../../requirements.txt (line 7))\n",
      "  Downloading blis-0.7.11-cp311-cp311-manylinux_2_17_x86_64.manylinux2014_x86_64.whl.metadata (7.4 kB)\n",
      "Collecting confection<1.0.0,>=0.0.1 (from thinc<8.3.0,>=8.2.2->spacy->-r ../../requirements.txt (line 7))\n",
      "  Using cached confection-0.1.4-py3-none-any.whl.metadata (19 kB)\n",
      "Requirement already satisfied: click<9.0.0,>=7.1.1 in /home/niko/anaconda3/lib/python3.11/site-packages (from typer<0.10.0,>=0.3.0->spacy->-r ../../requirements.txt (line 7)) (8.0.4)\n",
      "Collecting cloudpathlib<0.17.0,>=0.7.0 (from weasel<0.4.0,>=0.1.0->spacy->-r ../../requirements.txt (line 7))\n",
      "  Using cached cloudpathlib-0.16.0-py3-none-any.whl.metadata (14 kB)\n",
      "Requirement already satisfied: MarkupSafe>=2.0 in /home/niko/anaconda3/lib/python3.11/site-packages (from jinja2->spacy->-r ../../requirements.txt (line 7)) (2.1.1)\n",
      "Requirement already satisfied: mpmath>=0.19 in /home/niko/anaconda3/lib/python3.11/site-packages (from sympy->torch->-r ../../requirements.txt (line 8)) (1.3.0)\n",
      "Collecting marisa-trie>=0.7.7 (from language-data>=1.2->langcodes<4.0.0,>=3.2.0->spacy->-r ../../requirements.txt (line 7))\n",
      "  Downloading marisa_trie-1.1.1-cp311-cp311-manylinux_2_17_x86_64.manylinux2014_x86_64.whl.metadata (8.6 kB)\n",
      "Using cached pynvml-11.5.0-py3-none-any.whl (53 kB)\n",
      "Downloading spacy-3.7.4-cp311-cp311-manylinux_2_17_x86_64.manylinux2014_x86_64.whl (6.6 MB)\n",
      "\u001b[2K   \u001b[90m━━━━━━━━━━━━━━━━━━━━━━━━━━━━━━━━━━━━━━━━\u001b[0m \u001b[32m6.6/6.6 MB\u001b[0m \u001b[31m48.9 MB/s\u001b[0m eta \u001b[36m0:00:00\u001b[0m00:01\u001b[0m00:01\u001b[0m\n",
      "\u001b[?25hUsing cached catalogue-2.0.10-py3-none-any.whl (17 kB)\n",
      "Downloading cymem-2.0.8-cp311-cp311-manylinux_2_17_x86_64.manylinux2014_x86_64.whl (46 kB)\n",
      "\u001b[2K   \u001b[90m━━━━━━━━━━━━━━━━━━━━━━━━━━━━━━━━━━━━━━━━\u001b[0m \u001b[32m46.3/46.3 kB\u001b[0m \u001b[31m5.3 MB/s\u001b[0m eta \u001b[36m0:00:00\u001b[0m\n",
      "\u001b[?25hUsing cached langcodes-3.4.0-py3-none-any.whl (182 kB)\n",
      "Downloading murmurhash-1.0.10-cp311-cp311-manylinux_2_5_x86_64.manylinux1_x86_64.manylinux_2_17_x86_64.manylinux2014_x86_64.whl (29 kB)\n",
      "Downloading preshed-3.0.9-cp311-cp311-manylinux_2_5_x86_64.manylinux1_x86_64.manylinux_2_17_x86_64.manylinux2014_x86_64.whl (157 kB)\n",
      "\u001b[2K   \u001b[90m━━━━━━━━━━━━━━━━━━━━━━━━━━━━━━━━━━━━━━━━\u001b[0m \u001b[32m157.2/157.2 kB\u001b[0m \u001b[31m20.8 MB/s\u001b[0m eta \u001b[36m0:00:00\u001b[0m\n",
      "\u001b[?25hUsing cached spacy_legacy-3.0.12-py2.py3-none-any.whl (29 kB)\n",
      "Using cached spacy_loggers-1.0.5-py3-none-any.whl (22 kB)\n",
      "Downloading srsly-2.4.8-cp311-cp311-manylinux_2_17_x86_64.manylinux2014_x86_64.whl (490 kB)\n",
      "\u001b[2K   \u001b[90m━━━━━━━━━━━━━━━━━━━━━━━━━━━━━━━━━━━━━━━━\u001b[0m \u001b[32m490.9/490.9 kB\u001b[0m \u001b[31m47.1 MB/s\u001b[0m eta \u001b[36m0:00:00\u001b[0m\n",
      "\u001b[?25hDownloading thinc-8.2.3-cp311-cp311-manylinux_2_17_x86_64.manylinux2014_x86_64.whl (920 kB)\n",
      "\u001b[2K   \u001b[90m━━━━━━━━━━━━━━━━━━━━━━━━━━━━━━━━━━━━━━━━\u001b[0m \u001b[32m920.1/920.1 kB\u001b[0m \u001b[31m44.3 MB/s\u001b[0m eta \u001b[36m0:00:00\u001b[0m\n",
      "\u001b[?25hUsing cached typer-0.9.4-py3-none-any.whl (45 kB)\n",
      "Using cached wasabi-1.1.2-py3-none-any.whl (27 kB)\n",
      "Using cached weasel-0.3.4-py3-none-any.whl (50 kB)\n",
      "Downloading blis-0.7.11-cp311-cp311-manylinux_2_17_x86_64.manylinux2014_x86_64.whl (10.2 MB)\n",
      "\u001b[2K   \u001b[90m━━━━━━━━━━━━━━━━━━━━━━━━━━━━━━━━━━━━━━━━\u001b[0m \u001b[32m10.2/10.2 MB\u001b[0m \u001b[31m70.5 MB/s\u001b[0m eta \u001b[36m0:00:00\u001b[0m:00:01\u001b[0m0:01\u001b[0m\n",
      "\u001b[?25hUsing cached cloudpathlib-0.16.0-py3-none-any.whl (45 kB)\n",
      "Using cached confection-0.1.4-py3-none-any.whl (35 kB)\n",
      "Using cached language_data-1.2.0-py3-none-any.whl (5.4 MB)\n",
      "Downloading marisa_trie-1.1.1-cp311-cp311-manylinux_2_17_x86_64.manylinux2014_x86_64.whl (1.4 MB)\n",
      "\u001b[2K   \u001b[90m━━━━━━━━━━━━━━━━━━━━━━━━━━━━━━━━━━━━━━━━\u001b[0m \u001b[32m1.4/1.4 MB\u001b[0m \u001b[31m56.7 MB/s\u001b[0m eta \u001b[36m0:00:00\u001b[0m\n",
      "\u001b[?25hInstalling collected packages: cymem, wasabi, typer, spacy-loggers, spacy-legacy, pynvml, murmurhash, marisa-trie, cloudpathlib, catalogue, blis, srsly, preshed, language-data, langcodes, confection, weasel, thinc, spacy\n",
      "  Attempting uninstall: typer\n",
      "    Found existing installation: typer 0.12.3\n",
      "    Uninstalling typer-0.12.3:\n",
      "      Successfully uninstalled typer-0.12.3\n",
      "\u001b[31mERROR: pip's dependency resolver does not currently take into account all the packages that are installed. This behaviour is the source of the following dependency conflicts.\n",
      "fastapi-cli 0.0.2 requires typer>=0.12.3, but you have typer 0.9.4 which is incompatible.\n",
      "gradio 4.29.0 requires typer<1.0,>=0.12; sys_platform != \"emscripten\", but you have typer 0.9.4 which is incompatible.\u001b[0m\u001b[31m\n",
      "\u001b[0mSuccessfully installed blis-0.7.11 catalogue-2.0.10 cloudpathlib-0.16.0 confection-0.1.4 cymem-2.0.8 langcodes-3.4.0 language-data-1.2.0 marisa-trie-1.1.1 murmurhash-1.0.10 preshed-3.0.9 pynvml-11.5.0 spacy-3.7.4 spacy-legacy-3.0.12 spacy-loggers-1.0.5 srsly-2.4.8 thinc-8.2.3 typer-0.9.4 wasabi-1.1.2 weasel-0.3.4\n",
      "Note: you may need to restart the kernel to use updated packages.\n"
     ]
    }
   ],
   "source": [
    "%pip install -r ../../requirements.txt"
   ]
  },
  {
   "cell_type": "code",
   "execution_count": 12,
   "metadata": {},
   "outputs": [
    {
     "name": "stdout",
     "output_type": "stream",
     "text": [
      "/mnt/c/Users/nik_b/Documents/UZH/CL/nlp_2/project/code/task\n"
     ]
    }
   ],
   "source": [
    "%cd .."
   ]
  },
  {
   "cell_type": "code",
   "execution_count": 13,
   "metadata": {},
   "outputs": [
    {
     "name": "stdout",
     "output_type": "stream",
     "text": [
      "LICENSE\n",
      "LM_classification_huggingface\n",
      "README-DATA\n",
      "README-TASK\n",
      "README.md\n",
      "__init__.py\n",
      "__pycache__\n",
      "classif_experim\n",
      "classification_experiments_rseed_564671_2024-05-08_15-26-49.log\n",
      "data_augmentation\n",
      "data_tools\n",
      "generate_requirements.sh\n",
      "gitignore.template\n",
      "notebooks\n",
      "run_seqlabel.sh.template\n",
      "sequence_labeling\n",
      "settings.py\n",
      "train_with_augmented_data\n"
     ]
    }
   ],
   "source": [
    "!ls"
   ]
  }
 ],
 "metadata": {
  "kernelspec": {
   "display_name": "base",
   "language": "python",
   "name": "python3"
  },
  "language_info": {
   "codemirror_mode": {
    "name": "ipython",
    "version": 3
   },
   "file_extension": ".py",
   "mimetype": "text/x-python",
   "name": "python",
   "nbconvert_exporter": "python",
   "pygments_lexer": "ipython3",
   "version": "3.11.5"
  }
 },
 "nbformat": 4,
 "nbformat_minor": 2
}

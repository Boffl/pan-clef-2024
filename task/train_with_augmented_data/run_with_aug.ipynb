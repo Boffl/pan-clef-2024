{
 "cells": [
  {
   "cell_type": "code",
   "execution_count": 1,
   "metadata": {},
   "outputs": [
    {
     "name": "stdout",
     "output_type": "stream",
     "text": [
      "/mnt/c/Users/nik_b/Documents/UZH/CL/nlp_2/project/code/task\n"
     ]
    }
   ],
   "source": [
    "%cd .."
   ]
  },
  {
   "cell_type": "code",
   "execution_count": null,
   "metadata": {},
   "outputs": [],
   "source": [
    "%pip install -r ../../requirements.txt"
   ]
  },
  {
   "cell_type": "code",
   "execution_count": 2,
   "metadata": {},
   "outputs": [
    {
     "name": "stderr",
     "output_type": "stream",
     "text": [
      "/home/niko/anaconda3/envs/pan-clef-2024-oppositional/lib/python3.12/site-packages/tqdm/auto.py:21: TqdmWarning: IProgress not found. Please update jupyter and ipywidgets. See https://ipywidgets.readthedocs.io/en/stable/user_install.html\n",
      "  from .autonotebook import tqdm as notebook_tqdm\n"
     ]
    }
   ],
   "source": [
    "from classif_experim.classif_experiment_runner import (\n",
    "\n",
    "    run_all_critic_conspi\n",
    ")"
   ]
  },
  {
   "cell_type": "code",
   "execution_count": 3,
   "metadata": {},
   "outputs": [
    {
     "name": "stderr",
     "output_type": "stream",
     "text": [
      "INFO:root:RUNNING classif. experiments: lang=EN, num_folds=5, max_seq_len=256, eval=None, rnd_seed=564671, test=None\n",
      "INFO:root:... HPARAMS = learning_rate: 2e-05; num_train_epochs: 3; warmup: 0.1; weight_decay: 0.01; batch_size: 16\n",
      "INFO:root:RUNNING crossvalid. for model: bert-base-cased\n"
     ]
    },
    {
     "name": "stdout",
     "output_type": "stream",
     "text": [
      "Loading official JSON en dataset\n"
     ]
    },
    {
     "name": "stderr",
     "output_type": "stream",
     "text": [
      "INFO:root:Starting Fold 1\n",
      "INFO:root:model built\n"
     ]
    },
    {
     "name": "stdout",
     "output_type": "stream",
     "text": [
      "len of train txt and cls, before augmentation: 3200 3200\n",
      "len of train txt and cls, after augmentation: 6883 6883\n"
     ]
    },
    {
     "ename": "NameError",
     "evalue": "name 'exit' is not defined",
     "output_type": "error",
     "traceback": [
      "\u001b[0;31m---------------------------------------------------------------------------\u001b[0m",
      "\u001b[0;31mNameError\u001b[0m                                 Traceback (most recent call last)",
      "Cell \u001b[0;32mIn[3], line 1\u001b[0m\n\u001b[0;32m----> 1\u001b[0m \u001b[43mrun_all_critic_conspi\u001b[49m\u001b[43m(\u001b[49m\u001b[43maugment_data\u001b[49m\u001b[38;5;241;43m=\u001b[39;49m\u001b[38;5;28;43;01mTrue\u001b[39;49;00m\u001b[43m)\u001b[49m\n",
      "File \u001b[0;32m/mnt/c/Users/nik_b/Documents/UZH/CL/nlp_2/project/code/task/classif_experim/classif_experiment_runner.py:169\u001b[0m, in \u001b[0;36mrun_all_critic_conspi\u001b[0;34m(seed, langs, augment_data)\u001b[0m\n\u001b[1;32m    167\u001b[0m \u001b[38;5;28;01mdef\u001b[39;00m \u001b[38;5;21mrun_all_critic_conspi\u001b[39m(seed\u001b[38;5;241m=\u001b[39mDEFAULT_RND_SEED, langs\u001b[38;5;241m=\u001b[39m[\u001b[38;5;124m'\u001b[39m\u001b[38;5;124men\u001b[39m\u001b[38;5;124m'\u001b[39m, \u001b[38;5;124m'\u001b[39m\u001b[38;5;124mes\u001b[39m\u001b[38;5;124m'\u001b[39m], augment_data\u001b[38;5;241m=\u001b[39m\u001b[38;5;28;01mFalse\u001b[39;00m):\n\u001b[1;32m    168\u001b[0m     \u001b[38;5;28;01mfor\u001b[39;00m lang \u001b[38;5;129;01min\u001b[39;00m langs:\n\u001b[0;32m--> 169\u001b[0m         \u001b[43mrun_classif_experiments\u001b[49m\u001b[43m(\u001b[49m\u001b[43mlang\u001b[49m\u001b[38;5;241;43m=\u001b[39;49m\u001b[43mlang\u001b[49m\u001b[43m,\u001b[49m\u001b[43m \u001b[49m\u001b[43mnum_folds\u001b[49m\u001b[38;5;241;43m=\u001b[39;49m\u001b[38;5;241;43m5\u001b[39;49m\u001b[43m,\u001b[49m\u001b[43m \u001b[49m\u001b[43mrnd_seed\u001b[49m\u001b[38;5;241;43m=\u001b[39;49m\u001b[43mseed\u001b[49m\u001b[43m,\u001b[49m\u001b[43m \u001b[49m\u001b[43mtest\u001b[49m\u001b[38;5;241;43m=\u001b[39;49m\u001b[38;5;28;43;01mNone\u001b[39;49;00m\u001b[43m,\u001b[49m\n\u001b[1;32m    170\u001b[0m \u001b[43m                                \u001b[49m\u001b[43mpositive_class\u001b[49m\u001b[38;5;241;43m=\u001b[39;49m\u001b[38;5;124;43m'\u001b[39;49m\u001b[38;5;124;43mcritical\u001b[39;49m\u001b[38;5;124;43m'\u001b[39;49m\u001b[43m,\u001b[49m\u001b[43m \u001b[49m\u001b[43mpause_after_fold\u001b[49m\u001b[38;5;241;43m=\u001b[39;49m\u001b[38;5;241;43m1\u001b[39;49m\u001b[43m,\u001b[49m\n\u001b[1;32m    171\u001b[0m \u001b[43m                                \u001b[49m\u001b[43mpause_after_model\u001b[49m\u001b[38;5;241;43m=\u001b[39;49m\u001b[38;5;241;43m2\u001b[39;49m\u001b[43m,\u001b[49m\u001b[43m \u001b[49m\u001b[43maugment_data\u001b[49m\u001b[38;5;241;43m=\u001b[39;49m\u001b[43maugment_data\u001b[49m\u001b[43m)\u001b[49m\n",
      "File \u001b[0;32m/mnt/c/Users/nik_b/Documents/UZH/CL/nlp_2/project/code/task/classif_experim/classif_experiment_runner.py:146\u001b[0m, in \u001b[0;36mrun_classif_experiments\u001b[0;34m(lang, num_folds, rnd_seed, test, experim_label, pause_after_fold, pause_after_model, max_seq_length, positive_class, model_list, augment_data)\u001b[0m\n\u001b[1;32m    144\u001b[0m params[\u001b[38;5;124m'\u001b[39m\u001b[38;5;124mbatch_size\u001b[39m\u001b[38;5;124m'\u001b[39m] \u001b[38;5;241m=\u001b[39m try_batch_size\n\u001b[1;32m    145\u001b[0m params[\u001b[38;5;124m'\u001b[39m\u001b[38;5;124mgradient_accumulation_steps\u001b[39m\u001b[38;5;124m'\u001b[39m] \u001b[38;5;241m=\u001b[39m grad_accum_steps\n\u001b[0;32m--> 146\u001b[0m res \u001b[38;5;241m=\u001b[39m \u001b[43mrun_classif_crossvalid\u001b[49m\u001b[43m(\u001b[49m\u001b[43mlang\u001b[49m\u001b[38;5;241;43m=\u001b[39;49m\u001b[43mlang\u001b[49m\u001b[43m,\u001b[49m\u001b[43m \u001b[49m\u001b[43mmodel_label\u001b[49m\u001b[38;5;241;43m=\u001b[39;49m\u001b[43mmodel\u001b[49m\u001b[43m,\u001b[49m\u001b[43m \u001b[49m\u001b[43mmodel_params\u001b[49m\u001b[38;5;241;43m=\u001b[39;49m\u001b[43mparams\u001b[49m\u001b[43m,\u001b[49m\u001b[43m \u001b[49m\u001b[43mnum_folds\u001b[49m\u001b[38;5;241;43m=\u001b[39;49m\u001b[43mnum_folds\u001b[49m\u001b[43m,\u001b[49m\n\u001b[1;32m    147\u001b[0m \u001b[43m                             \u001b[49m\u001b[43mrnd_seed\u001b[49m\u001b[38;5;241;43m=\u001b[39;49m\u001b[43mrnd_seed\u001b[49m\u001b[43m,\u001b[49m\u001b[43m \u001b[49m\u001b[43mtest\u001b[49m\u001b[38;5;241;43m=\u001b[39;49m\u001b[43mtest\u001b[49m\u001b[43m,\u001b[49m\u001b[43m \u001b[49m\u001b[43mpause_after_fold\u001b[49m\u001b[38;5;241;43m=\u001b[39;49m\u001b[43mpause_after_fold\u001b[49m\u001b[43m,\u001b[49m\n\u001b[1;32m    148\u001b[0m \u001b[43m                             \u001b[49m\u001b[43mpositive_class\u001b[49m\u001b[38;5;241;43m=\u001b[39;49m\u001b[43mpositive_class\u001b[49m\u001b[43m,\u001b[49m\u001b[43m \u001b[49m\u001b[43maugment_data\u001b[49m\u001b[38;5;241;43m=\u001b[39;49m\u001b[43maugment_data\u001b[49m\u001b[43m)\u001b[49m\n\u001b[1;32m    149\u001b[0m pred_res[model] \u001b[38;5;241m=\u001b[39m res\n\u001b[1;32m    150\u001b[0m \u001b[38;5;28;01mbreak\u001b[39;00m\n",
      "File \u001b[0;32m/mnt/c/Users/nik_b/Documents/UZH/CL/nlp_2/project/code/task/classif_experim/classif_experiment_runner.py:47\u001b[0m, in \u001b[0;36mrun_classif_crossvalid\u001b[0;34m(lang, model_label, model_params, positive_class, num_folds, rnd_seed, test, pause_after_fold, augment_data)\u001b[0m\n\u001b[1;32m     45\u001b[0m     cls_tr \u001b[38;5;241m=\u001b[39m pd\u001b[38;5;241m.\u001b[39mconcat([cls_tr, aug_classes], ignore_index\u001b[38;5;241m=\u001b[39m\u001b[38;5;28;01mTrue\u001b[39;00m)\n\u001b[1;32m     46\u001b[0m \u001b[38;5;28mprint\u001b[39m(\u001b[38;5;124m\"\u001b[39m\u001b[38;5;124mlen of train txt and cls, after augmentation:\u001b[39m\u001b[38;5;124m\"\u001b[39m, \u001b[38;5;28mlen\u001b[39m(txt_tr), \u001b[38;5;28mlen\u001b[39m(cls_tr))\n\u001b[0;32m---> 47\u001b[0m \u001b[43mexit\u001b[49m()\n\u001b[1;32m     48\u001b[0m \u001b[38;5;66;03m# train model\u001b[39;00m\n\u001b[1;32m     49\u001b[0m model\u001b[38;5;241m.\u001b[39mfit(txt_tr, cls_tr)\n",
      "\u001b[0;31mNameError\u001b[0m: name 'exit' is not defined"
     ]
    }
   ],
   "source": [
    "run_all_critic_conspi(augment_data=True)"
   ]
  }
 ],
 "metadata": {
  "kernelspec": {
   "display_name": "pan-clef-2024-oppositional",
   "language": "python",
   "name": "python3"
  },
  "language_info": {
   "codemirror_mode": {
    "name": "ipython",
    "version": 3
   },
   "file_extension": ".py",
   "mimetype": "text/x-python",
   "name": "python",
   "nbconvert_exporter": "python",
   "pygments_lexer": "ipython3",
   "version": "3.12.3"
  }
 },
 "nbformat": 4,
 "nbformat_minor": 2
}

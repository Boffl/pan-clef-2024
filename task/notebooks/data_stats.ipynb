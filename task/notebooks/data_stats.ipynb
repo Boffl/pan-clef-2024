{
 "cells": [
  {
   "cell_type": "markdown",
   "metadata": {},
   "source": [
    "## Imports"
   ]
  },
  {
   "cell_type": "code",
   "execution_count": 14,
   "metadata": {},
   "outputs": [
    {
     "name": "stdout",
     "output_type": "stream",
     "text": [
      "C:\\Users\\Nadia Timoleon\\Documents\\GitHub\\pan-clef-2024\\pan-clef-2024-oppositional-main\n"
     ]
    }
   ],
   "source": [
    "%cd \".\\Documents\\GitHub\\pan-clef-2024\\pan-clef-2024-oppositional-main\""
   ]
  },
  {
   "cell_type": "code",
   "execution_count": 3,
   "metadata": {},
   "outputs": [],
   "source": [
    "from data_tools.dataset_loaders import (\n",
    "    load_dataset_full,\n",
    "    load_dataset_split,\n",
    "    calculate_json_dataset_stats,\n",
    "    split_train_set\n",
    ")"
   ]
  },
  {
   "cell_type": "markdown",
   "metadata": {},
   "source": [
    "## Splitting the data"
   ]
  },
  {
   "cell_type": "code",
   "execution_count": 4,
   "metadata": {},
   "outputs": [],
   "source": [
    "# English dataset\n",
    "split_train_set('en', rndm_seed=1004)\n",
    "# Spanish dataset\n",
    "split_train_set('es', rndm_seed=3)"
   ]
  },
  {
   "cell_type": "markdown",
   "metadata": {},
   "source": [
    "## Statistics"
   ]
  },
  {
   "cell_type": "code",
   "execution_count": 5,
   "metadata": {},
   "outputs": [
    {
     "name": "stdout",
     "output_type": "stream",
     "text": [
      "Loading official JSON en dataset\n",
      "Loading official JSON es dataset\n",
      "Loading train and dev JSON en dataset\n",
      "Loading train and dev JSON es dataset\n"
     ]
    }
   ],
   "source": [
    "ds_en_train_full = load_dataset_full(lang='en', format='json')\n",
    "ds_es_train_full = load_dataset_full(lang='es', format='json')\n",
    "ds_en_train, ds_en_dev = load_dataset_split(lang='en', format='json')\n",
    "ds_es_train, ds_es_dev = load_dataset_split(lang='es', format='json')"
   ]
  },
  {
   "cell_type": "markdown",
   "metadata": {},
   "source": [
    "### Original train data"
   ]
  },
  {
   "cell_type": "code",
   "execution_count": 6,
   "metadata": {},
   "outputs": [
    {
     "name": "stdout",
     "output_type": "stream",
     "text": [
      "Number of documents: 4000\n",
      "CRITICAL: 65.525% ; CONSPIRACY: 34.475%\n",
      "AGENT: 51.200% ; CAMPAIGNER: 54.850% ; FACILITATOR: 26.500% ; NEGATIVE_EFFECT: 48.275% ; OBJECTIVE: 22.450% ; VICTIM: 42.675% ; X: 5.150%\n",
      "\n"
     ]
    }
   ],
   "source": [
    "# broken? does not filter by label\n",
    "# calculate_json_dataset_stats(ds_en_train_full, label='critical')\n",
    "calculate_json_dataset_stats(ds_en_train_full)"
   ]
  },
  {
   "cell_type": "code",
   "execution_count": 7,
   "metadata": {},
   "outputs": [
    {
     "name": "stdout",
     "output_type": "stream",
     "text": [
      "Number of documents: 4000\n",
      "CRITICAL: 63.450% ; CONSPIRACY: 36.550%\n",
      "AGENT: 25.525% ; CAMPAIGNER: 35.925% ; FACILITATOR: 26.475% ; NEGATIVE_EFFECT: 48.525% ; OBJECTIVE: 8.450% ; VICTIM: 50.100% ; X: 8.500%\n",
      "\n"
     ]
    }
   ],
   "source": [
    "calculate_json_dataset_stats(ds_es_train_full)"
   ]
  },
  {
   "cell_type": "markdown",
   "metadata": {},
   "source": [
    "### Train-dev split data"
   ]
  },
  {
   "cell_type": "code",
   "execution_count": 8,
   "metadata": {},
   "outputs": [
    {
     "name": "stdout",
     "output_type": "stream",
     "text": [
      "Number of documents: 3600\n",
      "CRITICAL: 65.972% ; CONSPIRACY: 34.028%\n",
      "AGENT: 51.194% ; CAMPAIGNER: 54.639% ; FACILITATOR: 26.361% ; NEGATIVE_EFFECT: 48.194% ; OBJECTIVE: 22.250% ; VICTIM: 42.583% ; X: 5.361%\n",
      "\n"
     ]
    }
   ],
   "source": [
    "calculate_json_dataset_stats(ds_en_train)"
   ]
  },
  {
   "cell_type": "code",
   "execution_count": 9,
   "metadata": {},
   "outputs": [
    {
     "name": "stdout",
     "output_type": "stream",
     "text": [
      "Number of documents: 400\n",
      "CRITICAL: 61.500% ; CONSPIRACY: 38.500%\n",
      "AGENT: 51.250% ; CAMPAIGNER: 56.750% ; FACILITATOR: 27.750% ; NEGATIVE_EFFECT: 49.000% ; OBJECTIVE: 24.250% ; VICTIM: 43.500% ; X: 3.250%\n",
      "\n"
     ]
    }
   ],
   "source": [
    "calculate_json_dataset_stats(ds_en_dev)"
   ]
  },
  {
   "cell_type": "code",
   "execution_count": 10,
   "metadata": {},
   "outputs": [
    {
     "name": "stdout",
     "output_type": "stream",
     "text": [
      "Number of documents: 3600\n",
      "CRITICAL: 63.694% ; CONSPIRACY: 36.306%\n",
      "AGENT: 25.611% ; CAMPAIGNER: 35.778% ; FACILITATOR: 26.361% ; NEGATIVE_EFFECT: 48.611% ; OBJECTIVE: 8.333% ; VICTIM: 50.833% ; X: 8.389%\n",
      "\n"
     ]
    }
   ],
   "source": [
    "calculate_json_dataset_stats(ds_es_train)"
   ]
  },
  {
   "cell_type": "code",
   "execution_count": 11,
   "metadata": {},
   "outputs": [
    {
     "name": "stdout",
     "output_type": "stream",
     "text": [
      "Number of documents: 400\n",
      "CRITICAL: 61.250% ; CONSPIRACY: 38.750%\n",
      "AGENT: 24.750% ; CAMPAIGNER: 37.250% ; FACILITATOR: 27.500% ; NEGATIVE_EFFECT: 47.750% ; OBJECTIVE: 9.500% ; VICTIM: 43.500% ; X: 9.500%\n",
      "\n"
     ]
    }
   ],
   "source": [
    "calculate_json_dataset_stats(ds_es_dev)"
   ]
  },
  {
   "cell_type": "markdown",
   "metadata": {},
   "source": [
    "## Our Statistics"
   ]
  },
  {
   "cell_type": "code",
   "execution_count": 1,
   "metadata": {},
   "outputs": [],
   "source": [
    "# We will work with pandas dataframes for ease of use\n",
    "\n",
    "import pandas as pd\n",
    "import numpy as np\n",
    "import os\n",
    "\n",
    "import matplotlib.pyplot as plt"
   ]
  },
  {
   "cell_type": "code",
   "execution_count": 2,
   "metadata": {},
   "outputs": [
    {
     "name": "stdout",
     "output_type": "stream",
     "text": [
      "C:\\Users\\Nadia Timoleon\n"
     ]
    }
   ],
   "source": [
    "%cd"
   ]
  },
  {
   "cell_type": "code",
   "execution_count": 3,
   "metadata": {},
   "outputs": [],
   "source": [
    "def load_pickle_to_df(data_name):\n",
    "  pickle_path = \"./Documents/GitHub/pan-clef-2024/data/pickle/\"\n",
    "  data_path = os.path.join(pickle_path, data_name)\n",
    "  df = pd.read_pickle(data_path)\n",
    "  df = df[['id', 'text']].copy() # select only the 'id' and 'text' columns\n",
    "  #df.set_index('id', inplace=True) # set 'id' column as index\n",
    "  return df\n",
    "\n",
    "# statistics functions\n",
    "def add_sequence_info(df):\n",
    "  # Calculate sequence length\n",
    "  df['sequence_length'] = df['text'].apply(len)\n",
    "  return df\n",
    "\n",
    "def print_size_stats(df):\n",
    "  mean_length = np.mean(df['sequence_length'])\n",
    "  std_length = np.std(df['sequence_length'])\n",
    "  min_length = np.min(df['sequence_length'])\n",
    "  max_length = np.max(df['sequence_length'])\n",
    "  print(f\"Mean sequence length: {mean_length:.2f}\")\n",
    "  print(f\"Standard deviation of sequence length: {std_length:.2f}\")\n",
    "  print(f\"Min sequence length: {min_length}\")\n",
    "  print(f\"Max sequence length: {max_length}\")\n",
    "\n",
    "def statistics_summary(data_name):\n",
    "  df = load_pickle_to_df(data_name)\n",
    "  df = add_sequence_info(df)\n",
    "  print(f\"Data file: {data_name}\")\n",
    "  print(\"-----------------------\")\n",
    "  print_size_stats(df)\n",
    "  return df"
   ]
  },
  {
   "cell_type": "markdown",
   "metadata": {},
   "source": [
    "### English data"
   ]
  },
  {
   "cell_type": "code",
   "execution_count": 4,
   "metadata": {},
   "outputs": [
    {
     "name": "stdout",
     "output_type": "stream",
     "text": [
      "Data file: dataset_en_train.pkl\n",
      "-----------------------\n",
      "Mean sequence length: 568.03\n",
      "Standard deviation of sequence length: 596.27\n",
      "Min sequence length: 78\n",
      "Max sequence length: 4695\n"
     ]
    }
   ],
   "source": [
    "df_en_train = statistics_summary('dataset_en_train.pkl')"
   ]
  },
  {
   "cell_type": "code",
   "execution_count": 5,
   "metadata": {},
   "outputs": [
    {
     "data": {
      "image/png": "[encoded data removed]",
      "text/plain": [
       "<Figure size 640x480 with 1 Axes>"
      ]
     },
     "metadata": {},
     "output_type": "display_data"
    }
   ],
   "source": [
    "plt.hist(df_en_train['sequence_length'], bins=10, color='skyblue', edgecolor='black')\n",
    "plt.xlabel('Sequence Length')\n",
    "plt.ylabel('Frequency')\n",
    "plt.title('Distribution of Sequence Length: English Dataset')\n",
    "plt.grid(True)\n",
    "plt.show()"
   ]
  },
  {
   "cell_type": "code",
   "execution_count": 6,
   "metadata": {},
   "outputs": [
    {
     "data": {
      "text/html": [
       "<div>\n",
       "<style scoped>\n",
       "    .dataframe tbody tr th:only-of-type {\n",
       "        vertical-align: middle;\n",
       "    }\n",
       "\n",
       "    .dataframe tbody tr th {\n",
       "        vertical-align: top;\n",
       "    }\n",
       "\n",
       "    .dataframe thead th {\n",
       "        text-align: right;\n",
       "    }\n",
       "</style>\n",
       "<table border=\"1\" class=\"dataframe\">\n",
       "  <thead>\n",
       "    <tr style=\"text-align: right;\">\n",
       "      <th></th>\n",
       "      <th>id</th>\n",
       "      <th>text</th>\n",
       "      <th>sequence_length</th>\n",
       "    </tr>\n",
       "  </thead>\n",
       "  <tbody>\n",
       "    <tr>\n",
       "      <th>3668</th>\n",
       "      <td>6542</td>\n",
       "      <td>We 're really not on the cusp of the \" elites ...</td>\n",
       "      <td>576</td>\n",
       "    </tr>\n",
       "  </tbody>\n",
       "</table>\n",
       "</div>"
      ],
      "text/plain": [
       "        id                                               text  sequence_length\n",
       "3668  6542  We 're really not on the cusp of the \" elites ...              576"
      ]
     },
     "execution_count": 6,
     "metadata": {},
     "output_type": "execute_result"
    }
   ],
   "source": [
    "# find an average-length sequence\n",
    "df_en_train[(df_en_train['sequence_length'] >= 558) & (df_en_train['sequence_length'] <= 578)].sample(1)"
   ]
  },
  {
   "cell_type": "markdown",
   "metadata": {},
   "source": [
    "### Spanish data"
   ]
  },
  {
   "cell_type": "code",
   "execution_count": 7,
   "metadata": {},
   "outputs": [
    {
     "name": "stdout",
     "output_type": "stream",
     "text": [
      "Data file: dataset_es_train.pkl\n",
      "-----------------------\n",
      "Mean sequence length: 813.31\n",
      "Standard deviation of sequence length: 768.00\n",
      "Min sequence length: 99\n",
      "Max sequence length: 4761\n"
     ]
    }
   ],
   "source": [
    "df_es_train = statistics_summary('dataset_es_train.pkl')"
   ]
  },
  {
   "cell_type": "code",
   "execution_count": 8,
   "metadata": {},
   "outputs": [
    {
     "data": {
      "image/png": "[encoded data removed]",
      "text/plain": [
       "<Figure size 640x480 with 1 Axes>"
      ]
     },
     "metadata": {},
     "output_type": "display_data"
    }
   ],
   "source": [
    "plt.hist(df_es_train['sequence_length'], bins=10, color='skyblue', edgecolor='black')\n",
    "plt.xlabel('Sequence Length')\n",
    "plt.ylabel('Frequency')\n",
    "plt.title('Distribution of Sequence Length: Spanish Dataset')\n",
    "plt.grid(True)\n",
    "plt.show()"
   ]
  },
  {
   "cell_type": "code",
   "execution_count": 9,
   "metadata": {},
   "outputs": [
    {
     "data": {
      "text/html": [
       "<div>\n",
       "<style scoped>\n",
       "    .dataframe tbody tr th:only-of-type {\n",
       "        vertical-align: middle;\n",
       "    }\n",
       "\n",
       "    .dataframe tbody tr th {\n",
       "        vertical-align: top;\n",
       "    }\n",
       "\n",
       "    .dataframe thead th {\n",
       "        text-align: right;\n",
       "    }\n",
       "</style>\n",
       "<table border=\"1\" class=\"dataframe\">\n",
       "  <thead>\n",
       "    <tr style=\"text-align: right;\">\n",
       "      <th></th>\n",
       "      <th>id</th>\n",
       "      <th>text</th>\n",
       "      <th>sequence_length</th>\n",
       "    </tr>\n",
       "  </thead>\n",
       "  <tbody>\n",
       "    <tr>\n",
       "      <th>3981</th>\n",
       "      <td>3957</td>\n",
       "      <td>El primer brote global de viruela del mono ocu...</td>\n",
       "      <td>813</td>\n",
       "    </tr>\n",
       "  </tbody>\n",
       "</table>\n",
       "</div>"
      ],
      "text/plain": [
       "        id                                               text  sequence_length\n",
       "3981  3957  El primer brote global de viruela del mono ocu...              813"
      ]
     },
     "execution_count": 9,
     "metadata": {},
     "output_type": "execute_result"
    }
   ],
   "source": [
    "# find an average-length sequence\n",
    "df_es_train[\n",
    "    (df_es_train['sequence_length'] >= 803) & (df_es_train['sequence_length'] <= 823)\n",
    "  ].sample(1)"
   ]
  },
  {
   "cell_type": "code",
   "execution_count": 17,
   "metadata": {},
   "outputs": [
    {
     "data": {
      "text/html": [
       "<div>\n",
       "<style scoped>\n",
       "    .dataframe tbody tr th:only-of-type {\n",
       "        vertical-align: middle;\n",
       "    }\n",
       "\n",
       "    .dataframe tbody tr th {\n",
       "        vertical-align: top;\n",
       "    }\n",
       "\n",
       "    .dataframe thead th {\n",
       "        text-align: right;\n",
       "    }\n",
       "</style>\n",
       "<table border=\"1\" class=\"dataframe\">\n",
       "  <thead>\n",
       "    <tr style=\"text-align: right;\">\n",
       "      <th></th>\n",
       "      <th>id</th>\n",
       "      <th>text</th>\n",
       "      <th>sequence_length</th>\n",
       "    </tr>\n",
       "  </thead>\n",
       "  <tbody>\n",
       "    <tr>\n",
       "      <th>2254</th>\n",
       "      <td>1334</td>\n",
       "      <td>Ya decía antes que no se podía sacar este tema...</td>\n",
       "      <td>2158</td>\n",
       "    </tr>\n",
       "  </tbody>\n",
       "</table>\n",
       "</div>"
      ],
      "text/plain": [
       "        id                                               text  sequence_length\n",
       "2254  1334  Ya decía antes que no se podía sacar este tema...             2158"
      ]
     },
     "execution_count": 17,
     "metadata": {},
     "output_type": "execute_result"
    }
   ],
   "source": [
    "# find sequences with length larger than mean + std\n",
    "df_es_train[\n",
    "    df_es_train['sequence_length'] > np.mean(df_es_train['sequence_length']) + np.std(df_es_train['sequence_length'])\n",
    "  ].sample(1)"
   ]
  },
  {
   "cell_type": "code",
   "execution_count": 28,
   "metadata": {},
   "outputs": [
    {
     "data": {
      "text/html": [
       "<div>\n",
       "<style scoped>\n",
       "    .dataframe tbody tr th:only-of-type {\n",
       "        vertical-align: middle;\n",
       "    }\n",
       "\n",
       "    .dataframe tbody tr th {\n",
       "        vertical-align: top;\n",
       "    }\n",
       "\n",
       "    .dataframe thead th {\n",
       "        text-align: right;\n",
       "    }\n",
       "</style>\n",
       "<table border=\"1\" class=\"dataframe\">\n",
       "  <thead>\n",
       "    <tr style=\"text-align: right;\">\n",
       "      <th></th>\n",
       "      <th>id</th>\n",
       "      <th>text</th>\n",
       "      <th>sequence_length</th>\n",
       "    </tr>\n",
       "  </thead>\n",
       "  <tbody>\n",
       "    <tr>\n",
       "      <th>736</th>\n",
       "      <td>1576</td>\n",
       "      <td>ATENCIÓN   LO QUE VIENE ... Después del 30 d...</td>\n",
       "      <td>2188</td>\n",
       "    </tr>\n",
       "  </tbody>\n",
       "</table>\n",
       "</div>"
      ],
      "text/plain": [
       "       id                                               text  sequence_length\n",
       "736  1576    ATENCIÓN   LO QUE VIENE ... Después del 30 d...             2188"
      ]
     },
     "execution_count": 28,
     "metadata": {},
     "output_type": "execute_result"
    }
   ],
   "source": [
    "# find sequences with length 4000 +- 100\n",
    "df_es_train[\n",
    "    (df_es_train['sequence_length'] >= 2050) & (df_es_train['sequence_length'] <= 2200)\n",
    "  ].sample(1)"
   ]
  },
  {
   "cell_type": "code",
   "execution_count": null,
   "metadata": {},
   "outputs": [],
   "source": []
  }
 ],
 "metadata": {
  "kernelspec": {
   "display_name": "pan_clef_24",
   "language": "python",
   "name": "python3"
  },
  "language_info": {
   "codemirror_mode": {
    "name": "ipython",
    "version": 3
   },
   "file_extension": ".py",
   "mimetype": "text/x-python",
   "name": "python",
   "nbconvert_exporter": "python",
   "pygments_lexer": "ipython3",
   "version": "3.10.14"
  }
 },
 "nbformat": 4,
 "nbformat_minor": 2
}

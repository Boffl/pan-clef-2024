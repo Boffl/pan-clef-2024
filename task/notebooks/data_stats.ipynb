{
 "cells": [
  {
   "cell_type": "markdown",
   "metadata": {},
   "source": [
    "## Imports"
   ]
  },
  {
   "cell_type": "code",
   "execution_count": 3,
   "metadata": {},
   "outputs": [
    {
     "name": "stdout",
     "output_type": "stream",
     "text": [
      "C:\\Users\\Nadia Timoleon\\Documents\\GitHub\\pan-clef-2024\\task\n"
     ]
    }
   ],
   "source": [
    "%cd \".\\Documents\\GitHub\\pan-clef-2024\\task\""
   ]
  },
  {
   "cell_type": "code",
   "execution_count": 4,
   "metadata": {},
   "outputs": [],
   "source": [
    "from data_tools.dataset_loaders import (\n",
    "    load_dataset_full,\n",
    "    load_dataset_split,\n",
    "    calculate_json_dataset_stats,\n",
    "    split_train_set\n",
    ")"
   ]
  },
  {
   "cell_type": "markdown",
   "metadata": {},
   "source": [
    "## Splitting the data"
   ]
  },
  {
   "cell_type": "code",
   "execution_count": 4,
   "metadata": {},
   "outputs": [],
   "source": [
    "# English dataset\n",
    "split_train_set('en', rndm_seed=1004)\n",
    "# Spanish dataset\n",
    "split_train_set('es', rndm_seed=3)"
   ]
  },
  {
   "cell_type": "markdown",
   "metadata": {},
   "source": [
    "## Statistics"
   ]
  },
  {
   "cell_type": "code",
   "execution_count": 5,
   "metadata": {},
   "outputs": [
    {
     "name": "stdout",
     "output_type": "stream",
     "text": [
      "Loading official JSON en dataset\n",
      "Loading official JSON es dataset\n",
      "Loading train and dev JSON en dataset\n",
      "Loading train and dev JSON es dataset\n"
     ]
    }
   ],
   "source": [
    "ds_en_train_full = load_dataset_full(lang='en', format='json')\n",
    "ds_es_train_full = load_dataset_full(lang='es', format='json')\n",
    "ds_en_train, ds_en_dev = load_dataset_split(lang='en', format='json')\n",
    "ds_es_train, ds_es_dev = load_dataset_split(lang='es', format='json')"
   ]
  },
  {
   "cell_type": "markdown",
   "metadata": {},
   "source": [
    "### Original train data"
   ]
  },
  {
   "cell_type": "code",
   "execution_count": 6,
   "metadata": {},
   "outputs": [
    {
     "name": "stdout",
     "output_type": "stream",
     "text": [
      "Number of documents: 4000\n",
      "CRITICAL: 65.525% ; CONSPIRACY: 34.475%\n",
      "AGENT: 51.200% ; CAMPAIGNER: 54.850% ; FACILITATOR: 26.500% ; NEGATIVE_EFFECT: 48.275% ; OBJECTIVE: 22.450% ; VICTIM: 42.675% ; X: 5.150%\n",
      "\n"
     ]
    }
   ],
   "source": [
    "# broken? does not filter by label\n",
    "# calculate_json_dataset_stats(ds_en_train_full, label='critical')\n",
    "calculate_json_dataset_stats(ds_en_train_full)"
   ]
  },
  {
   "cell_type": "code",
   "execution_count": 7,
   "metadata": {},
   "outputs": [
    {
     "name": "stdout",
     "output_type": "stream",
     "text": [
      "Number of documents: 4000\n",
      "CRITICAL: 63.450% ; CONSPIRACY: 36.550%\n",
      "AGENT: 25.525% ; CAMPAIGNER: 35.925% ; FACILITATOR: 26.475% ; NEGATIVE_EFFECT: 48.525% ; OBJECTIVE: 8.450% ; VICTIM: 50.100% ; X: 8.500%\n",
      "\n"
     ]
    }
   ],
   "source": [
    "calculate_json_dataset_stats(ds_es_train_full)"
   ]
  },
  {
   "cell_type": "markdown",
   "metadata": {},
   "source": [
    "### Train-dev split data"
   ]
  },
  {
   "cell_type": "code",
   "execution_count": 8,
   "metadata": {},
   "outputs": [
    {
     "name": "stdout",
     "output_type": "stream",
     "text": [
      "Number of documents: 3600\n",
      "CRITICAL: 65.972% ; CONSPIRACY: 34.028%\n",
      "AGENT: 51.194% ; CAMPAIGNER: 54.639% ; FACILITATOR: 26.361% ; NEGATIVE_EFFECT: 48.194% ; OBJECTIVE: 22.250% ; VICTIM: 42.583% ; X: 5.361%\n",
      "\n"
     ]
    }
   ],
   "source": [
    "calculate_json_dataset_stats(ds_en_train)"
   ]
  },
  {
   "cell_type": "code",
   "execution_count": 9,
   "metadata": {},
   "outputs": [
    {
     "name": "stdout",
     "output_type": "stream",
     "text": [
      "Number of documents: 400\n",
      "CRITICAL: 61.500% ; CONSPIRACY: 38.500%\n",
      "AGENT: 51.250% ; CAMPAIGNER: 56.750% ; FACILITATOR: 27.750% ; NEGATIVE_EFFECT: 49.000% ; OBJECTIVE: 24.250% ; VICTIM: 43.500% ; X: 3.250%\n",
      "\n"
     ]
    }
   ],
   "source": [
    "calculate_json_dataset_stats(ds_en_dev)"
   ]
  },
  {
   "cell_type": "code",
   "execution_count": 10,
   "metadata": {},
   "outputs": [
    {
     "name": "stdout",
     "output_type": "stream",
     "text": [
      "Number of documents: 3600\n",
      "CRITICAL: 63.694% ; CONSPIRACY: 36.306%\n",
      "AGENT: 25.611% ; CAMPAIGNER: 35.778% ; FACILITATOR: 26.361% ; NEGATIVE_EFFECT: 48.611% ; OBJECTIVE: 8.333% ; VICTIM: 50.833% ; X: 8.389%\n",
      "\n"
     ]
    }
   ],
   "source": [
    "calculate_json_dataset_stats(ds_es_train)"
   ]
  },
  {
   "cell_type": "code",
   "execution_count": 11,
   "metadata": {},
   "outputs": [
    {
     "name": "stdout",
     "output_type": "stream",
     "text": [
      "Number of documents: 400\n",
      "CRITICAL: 61.250% ; CONSPIRACY: 38.750%\n",
      "AGENT: 24.750% ; CAMPAIGNER: 37.250% ; FACILITATOR: 27.500% ; NEGATIVE_EFFECT: 47.750% ; OBJECTIVE: 9.500% ; VICTIM: 43.500% ; X: 9.500%\n",
      "\n"
     ]
    }
   ],
   "source": [
    "calculate_json_dataset_stats(ds_es_dev)"
   ]
  },
  {
   "cell_type": "markdown",
   "metadata": {},
   "source": [
    "## Our Statistics"
   ]
  },
  {
   "cell_type": "code",
   "execution_count": 3,
   "metadata": {},
   "outputs": [
    {
     "name": "stdout",
     "output_type": "stream",
     "text": [
      "C:\\Users\\Nadia Timoleon\\Documents\\GitHub\\pan-clef-2024\n"
     ]
    }
   ],
   "source": [
    "%cd \".\\Documents\\GitHub\\pan-clef-2024\""
   ]
  },
  {
   "cell_type": "code",
   "execution_count": 4,
   "metadata": {},
   "outputs": [],
   "source": [
    "# We will work with pandas dataframes for ease of use\n",
    "\n",
    "import pandas as pd\n",
    "import numpy as np\n",
    "import os\n",
    "\n",
    "import matplotlib.pyplot as plt"
   ]
  },
  {
   "cell_type": "code",
   "execution_count": 5,
   "metadata": {},
   "outputs": [],
   "source": [
    "from task.data_tools.pickle_utils import load_pickle_to_df"
   ]
  },
  {
   "cell_type": "code",
   "execution_count": 29,
   "metadata": {},
   "outputs": [],
   "source": [
    "# statistics functions\n",
    "def add_sequence_info(df):\n",
    "  # Calculate sequence length\n",
    "  df['sequence_length'] = df['text'].apply(len)\n",
    "  return df\n",
    "\n",
    "def add_token_info(df):\n",
    "  # Calculate number of tokens\n",
    "  df['tokens'] = df['text'].apply(lambda x: x.split())\n",
    "  df['num_tokens'] = df['tokens'].apply(len)\n",
    "  return df\n",
    "\n",
    "def print_size_stats(df):\n",
    "  mean_length = np.mean(df['sequence_length'])\n",
    "  std_length = np.std(df['sequence_length'])\n",
    "  min_length = np.min(df['sequence_length'])\n",
    "  max_length = np.max(df['sequence_length'])\n",
    "  print(f\"Mean sequence length: {mean_length:.2f}\")\n",
    "  print(f\"Standard deviation of sequence length: {std_length:.2f}\")\n",
    "  print(f\"Min sequence length: {min_length}\")\n",
    "  print(f\"Max sequence length: {max_length}\")\n",
    "\n",
    "def print_token_stats(df):\n",
    "  mean_tokens = np.mean(df['num_tokens'])\n",
    "  std_tokens = np.std(df['num_tokens'])\n",
    "  min_tokens = np.min(df['num_tokens'])\n",
    "  max_tokens = np.max(df['num_tokens'])\n",
    "  mean_token_length = np.mean([len(token) for token in df['tokens'].sum()])\n",
    "  print(f\"Mean number of tokens: {mean_tokens:.2f}\")\n",
    "  print(f\"Standard deviation of number of tokens: {std_tokens:.2f}\")\n",
    "  print(f\"Min number of tokens: {min_tokens}\")\n",
    "  print(f\"Max number of tokens: {max_tokens}\")\n",
    "  print(f\"Mean token length: {mean_token_length:.2f}\")\n",
    "\n",
    "def statistics_summary(data_name):\n",
    "  df = load_pickle_to_df(data_name)\n",
    "  df = add_sequence_info(df)\n",
    "  df = add_token_info(df)\n",
    "  print(f\"Data file: {data_name}\")\n",
    "  print(\"-----------------------\")\n",
    "  print_size_stats(df)\n",
    "  print(\"-----------------------\")\n",
    "  print_token_stats(df)\n",
    "  return df"
   ]
  },
  {
   "cell_type": "markdown",
   "metadata": {},
   "source": [
    "## Original VS Augmented datasets"
   ]
  },
  {
   "cell_type": "markdown",
   "metadata": {},
   "source": [
    "### English"
   ]
  },
  {
   "cell_type": "code",
   "execution_count": 30,
   "metadata": {},
   "outputs": [
    {
     "name": "stdout",
     "output_type": "stream",
     "text": [
      "Data file: dataset_en_train.pkl\n",
      "-----------------------\n",
      "Mean sequence length: 568.03\n",
      "Standard deviation of sequence length: 596.27\n",
      "Min sequence length: 78\n",
      "Max sequence length: 4695\n",
      "-----------------------\n",
      "Mean number of tokens: 110.37\n",
      "Standard deviation of number of tokens: 114.95\n",
      "Min number of tokens: 14\n",
      "Max number of tokens: 1041\n",
      "Mean token length: 4.14\n"
     ]
    }
   ],
   "source": [
    "df_en_train = statistics_summary('dataset_en_train.pkl')"
   ]
  },
  {
   "cell_type": "code",
   "execution_count": 31,
   "metadata": {},
   "outputs": [
    {
     "name": "stdout",
     "output_type": "stream",
     "text": [
      "Data file: dataset_EN_translated.pkl\n",
      "-----------------------\n",
      "Mean sequence length: 547.28\n",
      "Standard deviation of sequence length: 289.62\n",
      "Min sequence length: 58\n",
      "Max sequence length: 2556\n",
      "-----------------------\n",
      "Mean number of tokens: 98.39\n",
      "Standard deviation of number of tokens: 53.62\n",
      "Min number of tokens: 1\n",
      "Max number of tokens: 495\n",
      "Mean token length: 4.57\n"
     ]
    }
   ],
   "source": [
    "df_en_translate = statistics_summary('dataset_EN_translated.pkl')"
   ]
  },
  {
   "cell_type": "code",
   "execution_count": 32,
   "metadata": {},
   "outputs": [
    {
     "data": {
      "image/png": "[encoded data removed]",
      "text/plain": [
       "<Figure size 640x480 with 1 Axes>"
      ]
     },
     "metadata": {},
     "output_type": "display_data"
    }
   ],
   "source": [
    "plt.hist(df_en_train['sequence_length'], bins=10, color='skyblue', edgecolor='black')\n",
    "plt.xlabel('Sequence Length')\n",
    "plt.ylabel('Frequency')\n",
    "plt.title('Distribution of Sequence Length: Original English Dataset')\n",
    "plt.grid(True)\n",
    "plt.show()"
   ]
  },
  {
   "cell_type": "code",
   "execution_count": 33,
   "metadata": {},
   "outputs": [
    {
     "data": {
      "image/png": "[encoded data removed]",
      "text/plain": [
       "<Figure size 640x480 with 1 Axes>"
      ]
     },
     "metadata": {},
     "output_type": "display_data"
    }
   ],
   "source": [
    "plt.hist(df_en_translate['sequence_length'], bins=10, color='skyblue', edgecolor='black')\n",
    "plt.xlabel('Sequence Length')\n",
    "plt.ylabel('Frequency')\n",
    "plt.title('Distribution of Sequence Length: Augmented English Dataset')\n",
    "plt.grid(True)\n",
    "plt.show()"
   ]
  },
  {
   "cell_type": "markdown",
   "metadata": {},
   "source": [
    "### Spanish"
   ]
  },
  {
   "cell_type": "code",
   "execution_count": 34,
   "metadata": {},
   "outputs": [
    {
     "name": "stdout",
     "output_type": "stream",
     "text": [
      "Data file: dataset_es_train.pkl\n",
      "-----------------------\n",
      "Mean sequence length: 813.31\n",
      "Standard deviation of sequence length: 768.00\n",
      "Min sequence length: 99\n",
      "Max sequence length: 4761\n",
      "-----------------------\n",
      "Mean number of tokens: 154.45\n",
      "Standard deviation of number of tokens: 143.63\n",
      "Min number of tokens: 23\n",
      "Max number of tokens: 989\n",
      "Mean token length: 4.25\n"
     ]
    }
   ],
   "source": [
    "df_es_train = statistics_summary('dataset_es_train.pkl')"
   ]
  },
  {
   "cell_type": "code",
   "execution_count": 35,
   "metadata": {},
   "outputs": [
    {
     "name": "stdout",
     "output_type": "stream",
     "text": [
      "Data file: dataset_ES_translated.pkl\n",
      "-----------------------\n",
      "Mean sequence length: 469.64\n",
      "Standard deviation of sequence length: 265.41\n",
      "Min sequence length: 25\n",
      "Max sequence length: 1870\n",
      "-----------------------\n",
      "Mean number of tokens: 82.58\n",
      "Standard deviation of number of tokens: 46.07\n",
      "Min number of tokens: 1\n",
      "Max number of tokens: 465\n",
      "Mean token length: 4.70\n"
     ]
    }
   ],
   "source": [
    "df_es_translated = statistics_summary('dataset_ES_translated.pkl')"
   ]
  },
  {
   "cell_type": "code",
   "execution_count": 36,
   "metadata": {},
   "outputs": [
    {
     "data": {
      "image/png": "[encoded data removed]",
      "text/plain": [
       "<Figure size 640x480 with 1 Axes>"
      ]
     },
     "metadata": {},
     "output_type": "display_data"
    }
   ],
   "source": [
    "plt.hist(df_en_train['sequence_length'], bins=10, color='skyblue', edgecolor='black')\n",
    "plt.xlabel('Sequence Length')\n",
    "plt.ylabel('Frequency')\n",
    "plt.title('Distribution of Sequence Length: Spanish Dataset')\n",
    "plt.grid(True)\n",
    "plt.show()"
   ]
  }
 ],
 "metadata": {
  "kernelspec": {
   "display_name": "pan_clef_24",
   "language": "python",
   "name": "python3"
  },
  "language_info": {
   "codemirror_mode": {
    "name": "ipython",
    "version": 3
   },
   "file_extension": ".py",
   "mimetype": "text/x-python",
   "name": "python",
   "nbconvert_exporter": "python",
   "pygments_lexer": "ipython3",
   "version": "3.10.14"
  }
 },
 "nbformat": 4,
 "nbformat_minor": 2
}

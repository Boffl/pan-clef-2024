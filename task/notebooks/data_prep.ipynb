{
 "cells": [
  {
   "cell_type": "markdown",
   "metadata": {},
   "source": [
    "# Convert to pd.DataFrame\n",
    "We will convert all .json files to pd.DataFrames and save them as pickle files."
   ]
  },
  {
   "cell_type": "code",
   "execution_count": 2,
   "metadata": {},
   "outputs": [],
   "source": [
    "def json_to_dataframe(json_file):\n",
    "  with open(json_file, 'r') as f:\n",
    "    data = json.load(f)\n",
    "  return pd.DataFrame(data)\n",
    "\n",
    "def convert_json_files_to_pickle(json_dir, pickle_dir):\n",
    "  # Create pickle directory if it doesn't exist\n",
    "  if not os.path.exists(pickle_dir):\n",
    "    os.makedirs(pickle_dir)\n",
    "  \n",
    "  # Loop through each json file in the directory\n",
    "  for filename in os.listdir(json_dir):\n",
    "    if filename.endswith('.json'):\n",
    "      json_path = os.path.join(json_dir, filename)\n",
    "      df = json_to_dataframe(json_path)\n",
    "      pickle_path = os.path.join(pickle_dir, os.path.splitext(filename)[0] + '.pkl')\n",
    "      df.to_pickle(pickle_path)\n",
    "      print(f\"Converted {filename} to {pickle_path}\")"
   ]
  },
  {
   "cell_type": "code",
   "execution_count": 5,
   "metadata": {},
   "outputs": [
    {
     "name": "stdout",
     "output_type": "stream",
     "text": [
      "Converted dataset_en_split_dev.json to ./Documents/GitHub/pan-clef-2024/data/pickle\\dataset_en_split_dev.pkl\n",
      "Converted dataset_en_split_train.json to ./Documents/GitHub/pan-clef-2024/data/pickle\\dataset_en_split_train.pkl\n",
      "Converted dataset_en_train.json to ./Documents/GitHub/pan-clef-2024/data/pickle\\dataset_en_train.pkl\n",
      "Converted dataset_es_split_dev.json to ./Documents/GitHub/pan-clef-2024/data/pickle\\dataset_es_split_dev.pkl\n",
      "Converted dataset_es_split_train.json to ./Documents/GitHub/pan-clef-2024/data/pickle\\dataset_es_split_train.pkl\n",
      "Converted dataset_es_train.json to ./Documents/GitHub/pan-clef-2024/data/pickle\\dataset_es_train.pkl\n"
     ]
    }
   ],
   "source": [
    "convert_json_files_to_pickle(data_path + 'json', data_path + 'pickle')"
   ]
  },
  {
   "cell_type": "markdown",
   "metadata": {},
   "source": [
    "## Revert spaCy tokenization"
   ]
  },
  {
   "cell_type": "code",
   "execution_count": 10,
   "metadata": {},
   "outputs": [],
   "source": [
    "import json\n",
    "\n",
    "# Load the JSON file\n",
    "with open(data_path+'json/dataset_en_train.json', 'r', encoding='UTF-8') as file:\n",
    "    data = json.load(file)\n",
    "\n",
    "# Choose an entry (e.g., first entry in the JSON file)\n",
    "entry = data[0]  # Change the index as per your requirement"
   ]
  },
  {
   "cell_type": "code",
   "execution_count": 12,
   "metadata": {},
   "outputs": [],
   "source": [
    "# TODO"
   ]
  }
 ],
 "metadata": {
  "kernelspec": {
   "display_name": "pan_clef_24",
   "language": "python",
   "name": "python3"
  },
  "language_info": {
   "codemirror_mode": {
    "name": "ipython",
    "version": 3
   },
   "file_extension": ".py",
   "mimetype": "text/x-python",
   "name": "python",
   "nbconvert_exporter": "python",
   "pygments_lexer": "ipython3",
   "version": "3.10.14"
  }
 },
 "nbformat": 4,
 "nbformat_minor": 2
}

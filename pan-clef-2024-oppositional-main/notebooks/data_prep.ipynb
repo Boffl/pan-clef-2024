{
 "cells": [
  {
   "cell_type": "markdown",
   "metadata": {},
   "source": [
    "## Imports"
   ]
  },
  {
   "cell_type": "code",
   "execution_count": 1,
   "metadata": {},
   "outputs": [
    {
     "name": "stdout",
     "output_type": "stream",
     "text": [
      "c:\\Users\\Nadia Timoleon\\Documents\\GitHub\\pan-clef-2024\\pan-clef-2024-oppositional-main\n"
     ]
    }
   ],
   "source": [
    "%cd .."
   ]
  },
  {
   "cell_type": "code",
   "execution_count": 2,
   "metadata": {},
   "outputs": [],
   "source": [
    "from data_tools.dataset_loaders import (\n",
    "    load_dataset_full,\n",
    "    load_dataset_split,\n",
    "    calculate_json_dataset_stats,\n",
    "    split_train_set\n",
    ")"
   ]
  },
  {
   "cell_type": "markdown",
   "metadata": {},
   "source": [
    "## Splitting the data"
   ]
  },
  {
   "cell_type": "code",
   "execution_count": 11,
   "metadata": {},
   "outputs": [],
   "source": [
    "# English dataset\n",
    "split_train_set('en', rndm_seed=1004)\n",
    "# Spanish dataset\n",
    "split_train_set('es', rndm_seed=3)"
   ]
  },
  {
   "cell_type": "markdown",
   "metadata": {},
   "source": [
    "## Statistics"
   ]
  },
  {
   "cell_type": "code",
   "execution_count": 12,
   "metadata": {},
   "outputs": [
    {
     "name": "stdout",
     "output_type": "stream",
     "text": [
      "Loading official JSON en dataset\n",
      "Loading official JSON es dataset\n",
      "Loading train and dev JSON en dataset\n",
      "Loading train and dev JSON es dataset\n"
     ]
    }
   ],
   "source": [
    "ds_en_train_full = load_dataset_full(lang='en', format='json')\n",
    "ds_es_train_full = load_dataset_full(lang='es', format='json')\n",
    "ds_en_train, ds_en_dev = load_dataset_split(lang='en', format='json')\n",
    "ds_es_train, ds_es_dev = load_dataset_split(lang='es', format='json')"
   ]
  },
  {
   "cell_type": "markdown",
   "metadata": {},
   "source": [
    "### Original train data"
   ]
  },
  {
   "cell_type": "code",
   "execution_count": 13,
   "metadata": {},
   "outputs": [
    {
     "name": "stdout",
     "output_type": "stream",
     "text": [
      "Number of documents: 4000\n",
      "CRITICAL: 65.525% ; CONSPIRACY: 34.475%\n",
      "AGENT: 51.200% ; CAMPAIGNER: 54.850% ; FACILITATOR: 26.500% ; NEGATIVE_EFFECT: 48.275% ; OBJECTIVE: 22.450% ; VICTIM: 42.675% ; X: 5.150%\n",
      "\n"
     ]
    }
   ],
   "source": [
    "# broken? does not filter by label\n",
    "# calculate_json_dataset_stats(ds_en_train_full, label='critical')\n",
    "calculate_json_dataset_stats(ds_en_train_full)"
   ]
  },
  {
   "cell_type": "code",
   "execution_count": 14,
   "metadata": {},
   "outputs": [
    {
     "name": "stdout",
     "output_type": "stream",
     "text": [
      "Number of documents: 4000\n",
      "CRITICAL: 63.450% ; CONSPIRACY: 36.550%\n",
      "AGENT: 25.525% ; CAMPAIGNER: 35.925% ; FACILITATOR: 26.475% ; NEGATIVE_EFFECT: 48.525% ; OBJECTIVE: 8.450% ; VICTIM: 50.100% ; X: 8.500%\n",
      "\n"
     ]
    }
   ],
   "source": [
    "calculate_json_dataset_stats(ds_es_train_full)"
   ]
  },
  {
   "cell_type": "markdown",
   "metadata": {},
   "source": [
    "### Train-dev split data"
   ]
  },
  {
   "cell_type": "code",
   "execution_count": 15,
   "metadata": {},
   "outputs": [
    {
     "name": "stdout",
     "output_type": "stream",
     "text": [
      "Number of documents: 3600\n",
      "CRITICAL: 65.972% ; CONSPIRACY: 34.028%\n",
      "AGENT: 51.194% ; CAMPAIGNER: 54.639% ; FACILITATOR: 26.361% ; NEGATIVE_EFFECT: 48.194% ; OBJECTIVE: 22.250% ; VICTIM: 42.583% ; X: 5.361%\n",
      "\n"
     ]
    }
   ],
   "source": [
    "calculate_json_dataset_stats(ds_en_train)"
   ]
  },
  {
   "cell_type": "code",
   "execution_count": 16,
   "metadata": {},
   "outputs": [
    {
     "name": "stdout",
     "output_type": "stream",
     "text": [
      "Number of documents: 400\n",
      "CRITICAL: 61.500% ; CONSPIRACY: 38.500%\n",
      "AGENT: 51.250% ; CAMPAIGNER: 56.750% ; FACILITATOR: 27.750% ; NEGATIVE_EFFECT: 49.000% ; OBJECTIVE: 24.250% ; VICTIM: 43.500% ; X: 3.250%\n",
      "\n"
     ]
    }
   ],
   "source": [
    "calculate_json_dataset_stats(ds_en_dev)"
   ]
  },
  {
   "cell_type": "code",
   "execution_count": 17,
   "metadata": {},
   "outputs": [
    {
     "name": "stdout",
     "output_type": "stream",
     "text": [
      "Number of documents: 3600\n",
      "CRITICAL: 63.694% ; CONSPIRACY: 36.306%\n",
      "AGENT: 25.611% ; CAMPAIGNER: 35.778% ; FACILITATOR: 26.361% ; NEGATIVE_EFFECT: 48.611% ; OBJECTIVE: 8.333% ; VICTIM: 50.833% ; X: 8.389%\n",
      "\n"
     ]
    }
   ],
   "source": [
    "calculate_json_dataset_stats(ds_es_train)"
   ]
  },
  {
   "cell_type": "code",
   "execution_count": 18,
   "metadata": {},
   "outputs": [
    {
     "name": "stdout",
     "output_type": "stream",
     "text": [
      "Number of documents: 400\n",
      "CRITICAL: 61.250% ; CONSPIRACY: 38.750%\n",
      "AGENT: 24.750% ; CAMPAIGNER: 37.250% ; FACILITATOR: 27.500% ; NEGATIVE_EFFECT: 47.750% ; OBJECTIVE: 9.500% ; VICTIM: 43.500% ; X: 9.500%\n",
      "\n"
     ]
    }
   ],
   "source": [
    "calculate_json_dataset_stats(ds_es_dev)"
   ]
  }
 ],
 "metadata": {
  "kernelspec": {
   "display_name": "pan_clef_24",
   "language": "python",
   "name": "python3"
  },
  "language_info": {
   "codemirror_mode": {
    "name": "ipython",
    "version": 3
   },
   "file_extension": ".py",
   "mimetype": "text/x-python",
   "name": "python",
   "nbconvert_exporter": "python",
   "pygments_lexer": "ipython3",
   "version": "3.10.14"
  }
 },
 "nbformat": 4,
 "nbformat_minor": 2
}
